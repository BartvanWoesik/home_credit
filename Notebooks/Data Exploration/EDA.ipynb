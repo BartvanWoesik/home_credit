{
 "cells": [
  {
   "cell_type": "code",
   "execution_count": 1,
   "metadata": {},
   "outputs": [],
   "source": [
    "import pandas as pd\n",
    "from data_pipeline.dataset import Dataset"
   ]
  },
  {
   "cell_type": "code",
   "execution_count": 2,
   "metadata": {},
   "outputs": [
    {
     "data": {
      "text/html": [
       "<div>\n",
       "<style scoped>\n",
       "    .dataframe tbody tr th:only-of-type {\n",
       "        vertical-align: middle;\n",
       "    }\n",
       "\n",
       "    .dataframe tbody tr th {\n",
       "        vertical-align: top;\n",
       "    }\n",
       "\n",
       "    .dataframe thead th {\n",
       "        text-align: right;\n",
       "    }\n",
       "</style>\n",
       "<table border=\"1\" class=\"dataframe\">\n",
       "  <thead>\n",
       "    <tr style=\"text-align: right;\">\n",
       "      <th></th>\n",
       "      <th>case_id</th>\n",
       "      <th>target</th>\n",
       "      <th>numberofcontrsvalue_358L_max_0</th>\n",
       "      <th>nominalrate_281L_min_0</th>\n",
       "      <th>classificationofcontr_400M_mode_0</th>\n",
       "      <th>numberofcontrsvalue_358L_max_1</th>\n",
       "      <th>nominalrate_281L_min_1</th>\n",
       "      <th>classificationofcontr_400M_mode_1</th>\n",
       "      <th>numberofcontrsvalue_358L_max_2</th>\n",
       "      <th>nominalrate_281L_min_2</th>\n",
       "      <th>classificationofcontr_400M_mode_2</th>\n",
       "      <th>numberofcontrsvalue_358L_max_3</th>\n",
       "      <th>nominalrate_281L_min_3</th>\n",
       "      <th>classificationofcontr_400M_mode_3</th>\n",
       "      <th>credacc_cards_status_52L_mode_0</th>\n",
       "      <th>credacc_cards_status_52L_last_0</th>\n",
       "      <th>last180dayaveragebalance_704A_last_0</th>\n",
       "      <th>last180dayaveragebalance_704A_mean_0</th>\n",
       "      <th>last180dayaveragebalance_704A_max_0</th>\n",
       "    </tr>\n",
       "  </thead>\n",
       "  <tbody>\n",
       "    <tr>\n",
       "      <th>0</th>\n",
       "      <td>0</td>\n",
       "      <td>0</td>\n",
       "      <td>NaN</td>\n",
       "      <td>NaN</td>\n",
       "      <td>None</td>\n",
       "      <td>NaN</td>\n",
       "      <td>NaN</td>\n",
       "      <td>None</td>\n",
       "      <td>NaN</td>\n",
       "      <td>NaN</td>\n",
       "      <td>None</td>\n",
       "      <td>NaN</td>\n",
       "      <td>NaN</td>\n",
       "      <td>None</td>\n",
       "      <td>None</td>\n",
       "      <td>None</td>\n",
       "      <td>NaN</td>\n",
       "      <td>NaN</td>\n",
       "      <td>NaN</td>\n",
       "    </tr>\n",
       "    <tr>\n",
       "      <th>1</th>\n",
       "      <td>1</td>\n",
       "      <td>0</td>\n",
       "      <td>NaN</td>\n",
       "      <td>NaN</td>\n",
       "      <td>None</td>\n",
       "      <td>NaN</td>\n",
       "      <td>NaN</td>\n",
       "      <td>None</td>\n",
       "      <td>NaN</td>\n",
       "      <td>NaN</td>\n",
       "      <td>None</td>\n",
       "      <td>NaN</td>\n",
       "      <td>NaN</td>\n",
       "      <td>None</td>\n",
       "      <td>None</td>\n",
       "      <td>None</td>\n",
       "      <td>NaN</td>\n",
       "      <td>NaN</td>\n",
       "      <td>NaN</td>\n",
       "    </tr>\n",
       "    <tr>\n",
       "      <th>2</th>\n",
       "      <td>2</td>\n",
       "      <td>0</td>\n",
       "      <td>NaN</td>\n",
       "      <td>NaN</td>\n",
       "      <td>None</td>\n",
       "      <td>NaN</td>\n",
       "      <td>NaN</td>\n",
       "      <td>None</td>\n",
       "      <td>NaN</td>\n",
       "      <td>NaN</td>\n",
       "      <td>None</td>\n",
       "      <td>NaN</td>\n",
       "      <td>NaN</td>\n",
       "      <td>None</td>\n",
       "      <td>None</td>\n",
       "      <td>None</td>\n",
       "      <td>NaN</td>\n",
       "      <td>NaN</td>\n",
       "      <td>NaN</td>\n",
       "    </tr>\n",
       "    <tr>\n",
       "      <th>3</th>\n",
       "      <td>3</td>\n",
       "      <td>0</td>\n",
       "      <td>NaN</td>\n",
       "      <td>NaN</td>\n",
       "      <td>None</td>\n",
       "      <td>NaN</td>\n",
       "      <td>NaN</td>\n",
       "      <td>None</td>\n",
       "      <td>NaN</td>\n",
       "      <td>NaN</td>\n",
       "      <td>None</td>\n",
       "      <td>NaN</td>\n",
       "      <td>NaN</td>\n",
       "      <td>None</td>\n",
       "      <td>None</td>\n",
       "      <td>None</td>\n",
       "      <td>NaN</td>\n",
       "      <td>NaN</td>\n",
       "      <td>NaN</td>\n",
       "    </tr>\n",
       "    <tr>\n",
       "      <th>4</th>\n",
       "      <td>4</td>\n",
       "      <td>1</td>\n",
       "      <td>NaN</td>\n",
       "      <td>NaN</td>\n",
       "      <td>None</td>\n",
       "      <td>NaN</td>\n",
       "      <td>NaN</td>\n",
       "      <td>None</td>\n",
       "      <td>NaN</td>\n",
       "      <td>NaN</td>\n",
       "      <td>None</td>\n",
       "      <td>NaN</td>\n",
       "      <td>NaN</td>\n",
       "      <td>None</td>\n",
       "      <td>None</td>\n",
       "      <td>None</td>\n",
       "      <td>NaN</td>\n",
       "      <td>NaN</td>\n",
       "      <td>NaN</td>\n",
       "    </tr>\n",
       "  </tbody>\n",
       "</table>\n",
       "</div>"
      ],
      "text/plain": [
       "   case_id  target  numberofcontrsvalue_358L_max_0  nominalrate_281L_min_0  \\\n",
       "0        0       0                             NaN                     NaN   \n",
       "1        1       0                             NaN                     NaN   \n",
       "2        2       0                             NaN                     NaN   \n",
       "3        3       0                             NaN                     NaN   \n",
       "4        4       1                             NaN                     NaN   \n",
       "\n",
       "  classificationofcontr_400M_mode_0  numberofcontrsvalue_358L_max_1  \\\n",
       "0                              None                             NaN   \n",
       "1                              None                             NaN   \n",
       "2                              None                             NaN   \n",
       "3                              None                             NaN   \n",
       "4                              None                             NaN   \n",
       "\n",
       "   nominalrate_281L_min_1 classificationofcontr_400M_mode_1  \\\n",
       "0                     NaN                              None   \n",
       "1                     NaN                              None   \n",
       "2                     NaN                              None   \n",
       "3                     NaN                              None   \n",
       "4                     NaN                              None   \n",
       "\n",
       "   numberofcontrsvalue_358L_max_2  nominalrate_281L_min_2  \\\n",
       "0                             NaN                     NaN   \n",
       "1                             NaN                     NaN   \n",
       "2                             NaN                     NaN   \n",
       "3                             NaN                     NaN   \n",
       "4                             NaN                     NaN   \n",
       "\n",
       "  classificationofcontr_400M_mode_2  numberofcontrsvalue_358L_max_3  \\\n",
       "0                              None                             NaN   \n",
       "1                              None                             NaN   \n",
       "2                              None                             NaN   \n",
       "3                              None                             NaN   \n",
       "4                              None                             NaN   \n",
       "\n",
       "   nominalrate_281L_min_3 classificationofcontr_400M_mode_3  \\\n",
       "0                     NaN                              None   \n",
       "1                     NaN                              None   \n",
       "2                     NaN                              None   \n",
       "3                     NaN                              None   \n",
       "4                     NaN                              None   \n",
       "\n",
       "  credacc_cards_status_52L_mode_0 credacc_cards_status_52L_last_0  \\\n",
       "0                            None                            None   \n",
       "1                            None                            None   \n",
       "2                            None                            None   \n",
       "3                            None                            None   \n",
       "4                            None                            None   \n",
       "\n",
       "   last180dayaveragebalance_704A_last_0  last180dayaveragebalance_704A_mean_0  \\\n",
       "0                                   NaN                                   NaN   \n",
       "1                                   NaN                                   NaN   \n",
       "2                                   NaN                                   NaN   \n",
       "3                                   NaN                                   NaN   \n",
       "4                                   NaN                                   NaN   \n",
       "\n",
       "   last180dayaveragebalance_704A_max_0  \n",
       "0                                  NaN  \n",
       "1                                  NaN  \n",
       "2                                  NaN  \n",
       "3                                  NaN  \n",
       "4                                  NaN  "
      ]
     },
     "execution_count": 2,
     "metadata": {},
     "output_type": "execute_result"
    }
   ],
   "source": [
    "df = pd.read_feather(\"../../data/parquet_files/train/processed_train.feather\")\n",
    "df.head()"
   ]
  },
  {
   "cell_type": "code",
   "execution_count": 3,
   "metadata": {},
   "outputs": [],
   "source": [
    "from hydra.utils import instantiate\n",
    "from hydra import compose, initialize\n",
    "from hydra.core.global_hydra import GlobalHydra\n",
    "from data_pipeline.pipelinesteps import data_splitter\n",
    "\n",
    "\n",
    "GlobalHydra.instance().clear()\n",
    "initialize(config_path=\"../../\", version_base=None)\n",
    "cfg = compose(config_name=\"config\")\n",
    "\n",
    "data_pipeline = instantiate(cfg.data_pipeline)\n",
    "df = pd.read_feather(\"../../data/parquet_files/train/processed_train.feather\")\n",
    "df = data_pipeline.apply(df)\n",
    "\n",
    "dataset = Dataset(data=df, data_splitter=data_splitter, target_column='target')\n",
    "\n"
   ]
  },
  {
   "cell_type": "code",
   "execution_count": 4,
   "metadata": {},
   "outputs": [
    {
     "data": {
      "text/plain": [
       "(1526659, 677)"
      ]
     },
     "execution_count": 4,
     "metadata": {},
     "output_type": "execute_result"
    }
   ],
   "source": [
    "\n",
    "dataset.shape"
   ]
  },
  {
   "cell_type": "code",
   "execution_count": 5,
   "metadata": {},
   "outputs": [
    {
     "name": "stdout",
     "output_type": "stream",
     "text": [
      "AUC score: 0.626309568759873\n"
     ]
    }
   ],
   "source": [
    "from sklearn.ensemble import HistGradientBoostingClassifier\n",
    "from sklearn.model_selection import train_test_split\n",
    "from sklearn.metrics import roc_auc_score\n",
    "\n",
    "# Load a binary classification dataset\n",
    "\n",
    "\n",
    "\n",
    "# Split the data into training and test sets\n",
    "X_train, X_test, y_train, y_test = dataset.X_train, dataset.X_test, dataset.y_train, dataset.y_test \n",
    "\n",
    "# Train a HistGradientBoostingClassifier\n",
    "clf = HistGradientBoostingClassifier()\n",
    "clf.fit(X_train, y_train)\n",
    "\n",
    "# Predict the probabilities of the positive class\n",
    "y_pred_proba = clf.predict_proba(X_test)[:, 1]\n",
    "\n",
    "# Compute the AUC score\n",
    "auc_score = roc_auc_score(y_test, y_pred_proba)\n",
    "print(f\"AUC score: {auc_score}\")"
   ]
  },
  {
   "cell_type": "code",
   "execution_count": 6,
   "metadata": {},
   "outputs": [
    {
     "data": {
      "image/png": "[encoded data removed]",
      "text/plain": [
       "<Figure size 640x480 with 1 Axes>"
      ]
     },
     "metadata": {},
     "output_type": "display_data"
    }
   ],
   "source": [
    "import matplotlib.pyplot as plt\n",
    "from sklearn.metrics import roc_curve\n",
    "fpr, tpr, _ = roc_curve(y_test, y_pred_proba)\n",
    "# Plot the AUC score\n",
    "plt.plot([0, 1], [0, 1], 'k--')\n",
    "plt.plot(fpr, tpr, label='AUC = {:.2f}'.format(auc_score))\n",
    "plt.xlabel('False Positive Rate')\n",
    "plt.ylabel('True Positive Rate')\n",
    "plt.title('Receiver Operating Characteristic')\n",
    "plt.legend(loc='lower right')\n",
    "plt.show()\n"
   ]
  },
  {
   "cell_type": "code",
   "execution_count": 7,
   "metadata": {},
   "outputs": [],
   "source": [
    "def second():\n",
    "    try:\n",
    "        print(\"third_function\")\n",
    "        print(1/0)\n",
    "    except Exception as error:\n",
    "        error_message = str(error).split(\"\\n\")[0]\n",
    "        raise ValueError(error_message)\n",
    "    \n",
    "def first():\n",
    "    try:\n",
    "        print(\"second_function\")\n",
    "        second()\n",
    "    except Exception as error:\n",
    "        error_message = str(error).split(\"\\n\")[0]\n",
    "        return ValueError(error_message) "
   ]
  },
  {
   "cell_type": "code",
   "execution_count": 8,
   "metadata": {},
   "outputs": [
    {
     "name": "stdout",
     "output_type": "stream",
     "text": [
      "second_function\n",
      "third_function\n"
     ]
    },
    {
     "data": {
      "text/plain": [
       "ValueError('division by zero')"
      ]
     },
     "execution_count": 8,
     "metadata": {},
     "output_type": "execute_result"
    }
   ],
   "source": [
    "first()"
   ]
  },
  {
   "cell_type": "code",
   "execution_count": null,
   "metadata": {},
   "outputs": [],
   "source": []
  }
 ],
 "metadata": {
  "kernelspec": {
   "display_name": "credit_score",
   "language": "python",
   "name": "python3"
  },
  "language_info": {
   "codemirror_mode": {
    "name": "ipython",
    "version": 3
   },
   "file_extension": ".py",
   "mimetype": "text/x-python",
   "name": "python",
   "nbconvert_exporter": "python",
   "pygments_lexer": "ipython3",
   "version": "3.11.7"
  }
 },
 "nbformat": 4,
 "nbformat_minor": 2
}
