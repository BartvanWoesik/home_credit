{
 "cells": [
  {
   "cell_type": "code",
   "execution_count": null,
   "metadata": {},
   "outputs": [],
   "source": [
    "import pandas as pd\n",
    "from data_pipeline.dataset import Dataset"
   ]
  },
  {
   "cell_type": "code",
   "execution_count": null,
   "metadata": {},
   "outputs": [],
   "source": [
    "df = pd.read_feather(\"../../data/parquet_files/train/processed_train.feather\")\n",
    "df.head()"
   ]
  },
  {
   "cell_type": "code",
   "execution_count": null,
   "metadata": {},
   "outputs": [],
   "source": [
    "from hydra.utils import instantiate\n",
    "from hydra import compose, initialize\n",
    "from hydra.core.global_hydra import GlobalHydra\n",
    "from data_pipeline.pipelinesteps import data_splitter\n",
    "\n",
    "\n",
    "GlobalHydra.instance().clear()\n",
    "initialize(config_path=\"../../\", version_base=None)\n",
    "cfg = compose(config_name=\"config\")\n",
    "\n",
    "data_pipeline = instantiate(cfg.data_pipeline)\n",
    "df = pd.read_feather(\"../../data/parquet_files/train/processed_train.feather\")\n",
    "df = data_pipeline.apply(df)\n",
    "\n",
    "dataset = Dataset(data=df, data_splitter=data_splitter, target_column='target')\n",
    "\n"
   ]
  },
  {
   "cell_type": "code",
   "execution_count": null,
   "metadata": {},
   "outputs": [],
   "source": [
    "dataset.X.head()"
   ]
  },
  {
   "cell_type": "code",
   "execution_count": null,
   "metadata": {},
   "outputs": [],
   "source": [
    "from sklearn.ensemble import HistGradientBoostingClassifier\n",
    "from sklearn.model_selection import train_test_split\n",
    "from sklearn.metrics import roc_auc_score\n",
    "\n",
    "# Load a binary classification dataset\n",
    "\n",
    "\n",
    "\n",
    "# Split the data into training and test sets\n",
    "X_train, X_test, y_train, y_test = dataset.X_train, dataset.X_test, dataset.y_train, dataset.y_test \n",
    "\n",
    "# Train a HistGradientBoostingClassifier\n",
    "clf = HistGradientBoostingClassifier()\n",
    "clf.fit(X_train, y_train)\n",
    "\n",
    "# Predict the probabilities of the positive class\n",
    "y_pred_proba = clf.predict_proba(X_test)[:, 1]\n",
    "\n",
    "# Compute the AUC score\n",
    "auc_score = roc_auc_score(y_test, y_pred_proba)\n",
    "print(f\"AUC score: {auc_score}\")"
   ]
  },
  {
   "cell_type": "code",
   "execution_count": null,
   "metadata": {},
   "outputs": [],
   "source": [
    "import matplotlib.pyplot as plt\n",
    "from sklearn.metrics import roc_curve\n",
    "fpr, tpr, _ = roc_curve(y_test, y_pred_proba)\n",
    "# Plot the AUC score\n",
    "plt.plot([0, 1], [0, 1], 'k--')\n",
    "plt.plot(fpr, tpr, label='AUC = {:.2f}'.format(auc_score))\n",
    "plt.xlabel('False Positive Rate')\n",
    "plt.ylabel('True Positive Rate')\n",
    "plt.title('Receiver Operating Characteristic')\n",
    "plt.legend(loc='lower right')\n",
    "plt.show()\n"
   ]
  },
  {
   "cell_type": "code",
   "execution_count": null,
   "metadata": {},
   "outputs": [],
   "source": [
    "from datetime import datetime\n",
    "print(f\"shap_{datetime.now()}.png\")"
   ]
  },
  {
   "cell_type": "code",
   "execution_count": null,
   "metadata": {},
   "outputs": [],
   "source": [
    "import shap\n",
    "import matplotlib.pyplot as plt\n",
    "from datetime import datetime\n",
    "import os\n",
    "\n",
    "def create_shap_beeswarm(model, X_data, num_of_features):\n",
    "\n",
    "    '''Function to create a shap beeswarm plot. The input parameters are the model that is trained and from which you want to\n",
    "    test the effect of the different features. X_data is a parameter that represents the training data on which the model is trained.\n",
    "    At last the num_of_features parameter represents the number of features you want to show in the beeswarm plot.'''\n",
    "    \n",
    "    explainer = shap.TreeExplainer(model)\n",
    "    shap_values = explainer(X_data)\n",
    "    fig = shap.plots.beeswarm(shap_values, max_display=num_of_features, show=False)\n",
    "    path = os.path.abspath(os.path.join(os.getcwd(), '..','..','model_evaluation'))\n",
    "    plt.savefig(path+f\"\\\\beeswarm_{datetime.now().strftime('%Y-%m-%d_%H-%M-%S')}.png\")\n",
    "    print(path+f\"\\\\beeswarm_{datetime.now().strftime('%Y-%m-%d_%H-%M-%S')}.png\")\n",
    "    return fig"
   ]
  },
  {
   "cell_type": "code",
   "execution_count": null,
   "metadata": {},
   "outputs": [],
   "source": [
    "import shap\n",
    "import matplotlib.pyplot as plt\n",
    "from datetime import datetime\n",
    "import os\n",
    "\n",
    "def create_heatmap(model, X_data):\n",
    "    explainer = shap.TreeExplainer(model)\n",
    "    shap_values = explainer(X_data)\n",
    "    fig = shap.plots.heatmap(shap_values[:1000], show=False)\n",
    "    path = os.path.abspath(os.path.join(os.getcwd(), '..','..','model_evaluation'))\n",
    "    plt.savefig(path+f\"\\\\heatmap_{datetime.now().strftime('%Y-%m-%d_%H-%M-%S')}.png\")\n",
    "    return fig\n"
   ]
  },
  {
   "cell_type": "code",
   "execution_count": null,
   "metadata": {},
   "outputs": [],
   "source": [
    "import shap\n",
    "import matplotlib.pyplot as plt\n",
    "from datetime import datetime\n",
    "import os\n",
    "\n",
    "def create_waterfall(model, X_data, row):\n",
    "    explainer = shap.TreeExplainer(model)\n",
    "    shap_values = explainer(X_data)\n",
    "    fig = shap.plots.waterfall(shap_values[row], show=False)\n",
    "    path = os.path.abspath(os.path.join(os.getcwd(), '..','..','model_evaluation'))\n",
    "    plt.savefig(path+f\"\\\\waterfall_{datetime.now().strftime('%Y-%m-%d_%H-%M-%S')}.png\")\n",
    "    return fig\n"
   ]
  },
  {
   "cell_type": "code",
   "execution_count": null,
   "metadata": {},
   "outputs": [],
   "source": [
    "create_shap_beeswarm(clf, X_train, 10)"
   ]
  },
  {
   "cell_type": "code",
   "execution_count": null,
   "metadata": {},
   "outputs": [],
   "source": [
    "create_heatmap(clf, X_train)"
   ]
  },
  {
   "cell_type": "code",
   "execution_count": null,
   "metadata": {},
   "outputs": [],
   "source": [
    "create_waterfall(clf, X_train, 1)"
   ]
  },
  {
   "cell_type": "code",
   "execution_count": null,
   "metadata": {},
   "outputs": [],
   "source": [
    "import shap\n",
    "\n",
    "explainer = shap.TreeExplainer(clf)\n",
    "shap_values = explainer(X_train)\n",
    "shap.plots.beeswarm(shap_values)"
   ]
  },
  {
   "cell_type": "code",
   "execution_count": null,
   "metadata": {},
   "outputs": [],
   "source": [
    "shap.plots.beeswarm(shap_values, max_display=100)"
   ]
  }
 ],
 "metadata": {
  "kernelspec": {
   "display_name": "credit_score",
   "language": "python",
   "name": "python3"
  },
  "language_info": {
   "codemirror_mode": {
    "name": "ipython",
    "version": 3
   },
   "file_extension": ".py",
   "mimetype": "text/x-python",
   "name": "python",
   "nbconvert_exporter": "python",
   "pygments_lexer": "ipython3",
   "version": "3.11.7"
  }
 },
 "nbformat": 4,
 "nbformat_minor": 2
}
