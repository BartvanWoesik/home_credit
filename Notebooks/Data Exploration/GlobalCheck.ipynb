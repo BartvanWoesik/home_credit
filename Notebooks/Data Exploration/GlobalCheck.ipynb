{
 "cells": [
  {
   "cell_type": "markdown",
   "metadata": {},
   "source": [
    "# Global data describtion\n",
    "\n",
    "In this notebook we are gonna explore all different files. As can be seen the data for this project contains a lot of seperate files which could be merged together with `case_id`. However before mergin these togehter it is important to know what these files represent and how they are constructed."
   ]
  },
  {
   "cell_type": "markdown",
   "metadata": {},
   "source": [
    "If we look at the name of the files we can identify 7 main file structures with the name structures:\n",
    "\n",
    "* applprev\n",
    "* credit_bureau\n",
    "* debitcard\n",
    "* other\n",
    "* person\n",
    "* static\n",
    "* tax_registry\n",
    "\n",
    "With the scope of this noteboos we will explore each of these files structure on a basic level. "
   ]
  },
  {
   "cell_type": "markdown",
   "metadata": {},
   "source": [
    "## Set up env"
   ]
  },
  {
   "cell_type": "code",
   "execution_count": null,
   "metadata": {},
   "outputs": [],
   "source": [
    "import pandas as pd\n",
    "import os\n",
    "from pathlib import Path\n",
    "from ydata_profiling import ProfileReport"
   ]
  },
  {
   "cell_type": "code",
   "execution_count": null,
   "metadata": {},
   "outputs": [],
   "source": [
    "cwd = Path(os.getcwd())\n",
    "base_wd = cwd.parent.parent \n",
    "data_path = base_wd / Path(\"data/parquet_files/train\")"
   ]
  },
  {
   "cell_type": "code",
   "execution_count": null,
   "metadata": {},
   "outputs": [],
   "source": [
    "df_applprev = pd.read_parquet(data_path / \"train_applprev_1_0.parquet\")\n",
    "df_applprev.head()"
   ]
  },
  {
   "cell_type": "code",
   "execution_count": null,
   "metadata": {},
   "outputs": [],
   "source": [
    "df_applprev[(df_applprev['case_id'] != 2) & ~(df_applprev['byoccupationinc_3656910L'].isnull(\n",
    "    \n",
    "))]"
   ]
  },
  {
   "cell_type": "markdown",
   "metadata": {},
   "source": [
    "df_applprev.shape"
   ]
  },
  {
   "cell_type": "code",
   "execution_count": null,
   "metadata": {},
   "outputs": [],
   "source": [
    "profile = ProfileReport(df_applprev, title=\"Profiling Report\")"
   ]
  },
  {
   "cell_type": "code",
   "execution_count": null,
   "metadata": {},
   "outputs": [],
   "source": [
    "df_schema = pd.read_csv(base_wd / \"data/feature_definitions.csv\")"
   ]
  },
  {
   "cell_type": "code",
   "execution_count": null,
   "metadata": {},
   "outputs": [],
   "source": [
    "df_schema.set_index('Variable').T[df_applprev.columns.to_list()].T.to_csv('applprev_columns.csv')"
   ]
  },
  {
   "cell_type": "code",
   "execution_count": null,
   "metadata": {},
   "outputs": [],
   "source": [
    "def generate_markdown_script(name: str):\n",
    "    python_script = f'''\\\n",
    "# Data Profile of Applprev_1_0\n",
    "\n",
    "## Column description\n",
    "\n",
    "{{{{ read_csv('assets/{name}_schema.csv') }}}}\n",
    "\n",
    "## Data Statistics\n",
    "\n",
    "<iframe width=2800, height=2000 frameBorder=0 src=\"../assets/{name}_report.html\"></iframe>\n",
    "\n",
    "    '''\n",
    "    \n",
    "    file_path = f\"../../docs/{name}.md\"\n",
    "    if not os.path.exists(file_path):\n",
    "\n",
    "        os.makedirs(os.path.dirname(file_path), exist_ok=True)\n",
    "        with open(file_path, 'w') as f:\n",
    "            f.write(python_script)\n",
    "    else:\n",
    "        print(f\"The file '{name}.md' already exists in the 'docs' directory.\")\n",
    "\n",
    "\n",
    "\n",
    "generate_markdown_script(\"naem\")\n"
   ]
  },
  {
   "cell_type": "code",
   "execution_count": 9,
   "metadata": {},
   "outputs": [
    {
     "name": "stderr",
     "output_type": "stream",
     "text": [
      "c:\\Users\\bartw\\anaconda3\\envs\\credit_score\\Lib\\site-packages\\ydata_profiling\\model\\typeset.py:125: DeprecationWarning: is_categorical_dtype is deprecated and will be removed in a future version. Use isinstance(dtype, pd.CategoricalDtype) instead\n",
      "  not pdt.is_categorical_dtype(series)\n"
     ]
    }
   ],
   "source": [
    "cwd = Path(os.getcwd())\n",
    "base_wd = cwd.parent.parent \n",
    "df_schema = pd.read_csv(base_wd / \"data/feature_definitions.csv\")\n",
    "for file_name in os.listdir(data_path):\n",
    "    print(f\"Process: {file_name}\")\n",
    "    base_name, _ = os.path.splitext(file_name)\n",
    "    df = pd.read_parquet(data_path /file_name)\n",
    "    df_schema.set_index('Variable').T[df.columns.to_list()].T.to_csv(f'../../docs/assets/{base_name}_schema.csv')\n",
    "    generate_markdown_script(base_name)\n",
    "    if not os.path.exists(f\"../../docs/assets/{base_name}_report.html\"):\n",
    "        print (f\" create: ../../docs/assets/{base_name}_report.html\")\n",
    "        profile = ProfileReport(df_applprev, title=f\"Profiling Report: {base_name}\")\n",
    "        profile.to_file(f\"../../docs/assets/{base_name}_report.html\")"
   ]
  }
 ],
 "metadata": {
  "kernelspec": {
   "display_name": "credit_score",
   "language": "python",
   "name": "python3"
  },
  "language_info": {
   "codemirror_mode": {
    "name": "ipython",
    "version": 3
   },
   "file_extension": ".py",
   "mimetype": "text/x-python",
   "name": "python",
   "nbconvert_exporter": "python",
   "pygments_lexer": "ipython3",
   "version": "3.11.7"
  }
 },
 "nbformat": 4,
 "nbformat_minor": 2
}
