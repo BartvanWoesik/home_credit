{
 "cells": [
  {
   "cell_type": "markdown",
   "metadata": {},
   "source": [
    "# Global data describtion\n",
    "\n",
    "In this notebook we are gonna explore all different files. As can be seen the data for this project contains a lot of seperate files which could be merged together with `case_id`. However before mergin these togehter it is important to know what these files represent and how they are constructed."
   ]
  },
  {
   "cell_type": "markdown",
   "metadata": {},
   "source": [
    "If we look at the name of the files we can identify 7 main file structures with the name structures:\n",
    "\n",
    "* applprev\n",
    "* credit_bureau\n",
    "* debitcard\n",
    "* other\n",
    "* person\n",
    "* static\n",
    "* tax_registry\n",
    "\n",
    "With the scope of this noteboos we will explore each of these files structure on a basic level. "
   ]
  },
  {
   "cell_type": "markdown",
   "metadata": {},
   "source": [
    "## Set up env"
   ]
  },
  {
   "cell_type": "code",
   "execution_count": 33,
   "metadata": {},
   "outputs": [],
   "source": [
    "import pandas as pd\n",
    "import os\n",
    "from pathlib import Path\n",
    "from ydata_profiling import ProfileReport"
   ]
  },
  {
   "cell_type": "code",
   "execution_count": 34,
   "metadata": {},
   "outputs": [],
   "source": [
    "cwd = Path(os.getcwd())\n",
    "base_wd = cwd.parent.parent \n",
    "data_path = base_wd / Path(\"data/parquet_files/train\")"
   ]
  },
  {
   "cell_type": "code",
   "execution_count": 35,
   "metadata": {},
   "outputs": [
    {
     "name": "stdout",
     "output_type": "stream",
     "text": [
      "The file 'naem.md' already exists in the 'docs' directory.\n"
     ]
    }
   ],
   "source": [
    "def generate_markdown_script(name: str):\n",
    "    python_script = f'''\\\n",
    "# Data Profile of Applprev_1_0\n",
    "\n",
    "## Column description\n",
    "\n",
    "{{{{ read_csv('assets/{name}_schema.csv') }}}}\n",
    "\n",
    "## Data Statistics\n",
    "\n",
    "<iframe width=2800, height=2000 frameBorder=0 src=\"../assets/{name}_report.html\"></iframe>\n",
    "\n",
    "    '''\n",
    "    \n",
    "    file_path = f\"../../docs/{name}.md\"\n",
    "    if not os.path.exists(file_path):\n",
    "\n",
    "        os.makedirs(os.path.dirname(file_path), exist_ok=True)\n",
    "        with open(file_path, 'w') as f:\n",
    "            f.write(python_script)\n",
    "    else:\n",
    "        print(f\"The file '{name}.md' already exists in the 'docs' directory.\")\n",
    "\n",
    "\n",
    "\n",
    "generate_markdown_script(\"naem\")\n"
   ]
  },
  {
   "cell_type": "code",
   "execution_count": 36,
   "metadata": {},
   "outputs": [
    {
     "name": "stdout",
     "output_type": "stream",
     "text": [
      "Process: train_applprev_1_0.parquet\n",
      "The file 'train_applprev_1_0.md' already exists in the 'docs' directory.\n",
      "Process: train_applprev_1_1.parquet\n",
      "The file 'train_applprev_1_1.md' already exists in the 'docs' directory.\n",
      "Process: train_applprev_2.parquet\n",
      "The file 'train_applprev_2.md' already exists in the 'docs' directory.\n",
      "Process: train_base.parquet\n",
      "The file 'train_base.md' already exists in the 'docs' directory.\n",
      "Process: train_credit_bureau_a_1_0.parquet\n",
      "The file 'train_credit_bureau_a_1_0.md' already exists in the 'docs' directory.\n",
      " create: ../../docs/assets/train_credit_bureau_a_1_0_report.html\n"
     ]
    },
    {
     "data": {
      "application/vnd.jupyter.widget-view+json": {
       "model_id": "6ee20f393fe843859626ab24a08f32a4",
       "version_major": 2,
       "version_minor": 0
      },
      "text/plain": [
       "Summarize dataset:   0%|          | 0/5 [00:00<?, ?it/s]"
      ]
     },
     "metadata": {},
     "output_type": "display_data"
    },
    {
     "data": {
      "application/vnd.jupyter.widget-view+json": {
       "model_id": "26e9f8a896c04f57b089b1ab1651a620",
       "version_major": 2,
       "version_minor": 0
      },
      "text/plain": [
       "Generate report structure:   0%|          | 0/1 [00:00<?, ?it/s]"
      ]
     },
     "metadata": {},
     "output_type": "display_data"
    },
    {
     "data": {
      "application/vnd.jupyter.widget-view+json": {
       "model_id": "10f1628556e143738170a1ffe92742b9",
       "version_major": 2,
       "version_minor": 0
      },
      "text/plain": [
       "Render HTML:   0%|          | 0/1 [00:00<?, ?it/s]"
      ]
     },
     "metadata": {},
     "output_type": "display_data"
    },
    {
     "data": {
      "application/vnd.jupyter.widget-view+json": {
       "model_id": "19a5f257810d4a989d411deed3effde8",
       "version_major": 2,
       "version_minor": 0
      },
      "text/plain": [
       "Export report to file:   0%|          | 0/1 [00:00<?, ?it/s]"
      ]
     },
     "metadata": {},
     "output_type": "display_data"
    },
    {
     "name": "stdout",
     "output_type": "stream",
     "text": [
      "Process: train_credit_bureau_a_1_1.parquet\n",
      "The file 'train_credit_bureau_a_1_1.md' already exists in the 'docs' directory.\n",
      "Process: train_credit_bureau_a_1_2.parquet\n",
      "The file 'train_credit_bureau_a_1_2.md' already exists in the 'docs' directory.\n",
      "Process: train_credit_bureau_a_1_3.parquet\n",
      "The file 'train_credit_bureau_a_1_3.md' already exists in the 'docs' directory.\n",
      "Process: train_credit_bureau_a_2_0.parquet\n",
      "The file 'train_credit_bureau_a_2_0.md' already exists in the 'docs' directory.\n",
      "Process: train_credit_bureau_a_2_1.parquet\n",
      "The file 'train_credit_bureau_a_2_1.md' already exists in the 'docs' directory.\n",
      "Process: train_credit_bureau_a_2_10.parquet\n",
      "The file 'train_credit_bureau_a_2_10.md' already exists in the 'docs' directory.\n",
      "Process: train_credit_bureau_a_2_2.parquet\n",
      "The file 'train_credit_bureau_a_2_2.md' already exists in the 'docs' directory.\n",
      "Process: train_credit_bureau_a_2_3.parquet\n",
      "The file 'train_credit_bureau_a_2_3.md' already exists in the 'docs' directory.\n",
      "Process: train_credit_bureau_a_2_4.parquet\n",
      "The file 'train_credit_bureau_a_2_4.md' already exists in the 'docs' directory.\n",
      "Process: train_credit_bureau_a_2_5.parquet\n",
      "The file 'train_credit_bureau_a_2_5.md' already exists in the 'docs' directory.\n",
      "Process: train_credit_bureau_a_2_6.parquet\n",
      "The file 'train_credit_bureau_a_2_6.md' already exists in the 'docs' directory.\n",
      "Process: train_credit_bureau_a_2_7.parquet\n",
      "The file 'train_credit_bureau_a_2_7.md' already exists in the 'docs' directory.\n",
      "Process: train_credit_bureau_a_2_8.parquet\n"
     ]
    }
   ],
   "source": [
    "cwd = Path(os.getcwd())\n",
    "base_wd = cwd.parent.parent \n",
    "df_schema = pd.read_csv(base_wd / \"data/feature_definitions.csv\")\n",
    "for file_name in os.listdir(data_path):\n",
    "    print(f\"Process: {file_name}\")\n",
    "    base_name, _ = os.path.splitext(file_name)\n",
    "    df = pd.read_parquet(data_path /file_name)\n",
    "    df_schema.set_index('Variable').T[df.columns.to_list()].T.to_csv(f'../../docs/assets/{base_name}_schema.csv')\n",
    "    generate_markdown_script(base_name)\n",
    "    if not os.path.exists(f\"../../docs/assets/{base_name}_report.html\"):\n",
    "        try:\n",
    "            print (f\" create: ../../docs/assets/{base_name}_report.html\")\n",
    "            profile = ProfileReport(df, title=f\"Profiling Report: {base_name}\", minimal=True)\n",
    "            profile.to_file(f\"../../docs/assets/{base_name}_report.html\")\n",
    "        except:\n",
    "            pass"
   ]
  }
 ],
 "metadata": {
  "kernelspec": {
   "display_name": "credit_score",
   "language": "python",
   "name": "python3"
  },
  "language_info": {
   "codemirror_mode": {
    "name": "ipython",
    "version": 3
   },
   "file_extension": ".py",
   "mimetype": "text/x-python",
   "name": "python",
   "nbconvert_exporter": "python",
   "pygments_lexer": "ipython3",
   "version": "3.11.7"
  }
 },
 "nbformat": 4,
 "nbformat_minor": 2
}
