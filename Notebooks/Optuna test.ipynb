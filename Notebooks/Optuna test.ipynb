{
 "cells": [
  {
   "cell_type": "code",
   "execution_count": 1,
   "metadata": {},
   "outputs": [
    {
     "name": "stdout",
     "output_type": "stream",
     "text": [
      "(CVXPY) Mar 26 03:45:45 PM: Encountered unexpected exception importing solver GLOP:\n",
      "RuntimeError('Unrecognized new version of ortools (9.8.3296). Expected < 9.8.0. Please open a feature request on cvxpy to enable support for this version.')\n",
      "(CVXPY) Mar 26 03:45:45 PM: Encountered unexpected exception importing solver PDLP:\n",
      "RuntimeError('Unrecognized new version of ortools (9.8.3296). Expected < 9.8.0. Please open a feature request on cvxpy to enable support for this version.')\n",
      " 2024-03-26 15:45:45,983 - \u001b[33;20m INFO \u001b[0m \t: my_logger.custom_logger - Logger is set up.\n"
     ]
    }
   ],
   "source": [
    "from model.modelorchastrator import ModelOrchestrator\n",
    "import pandas as pd\n",
    "from data_pipeline.dataset import Dataset\n",
    "from data_pipeline.pipelinesteps import data_splitter\n",
    "from hydra.utils import instantiate\n",
    "from hydra import compose, initialize\n",
    "from hydra.core.global_hydra import GlobalHydra\n",
    "from functools import partial\n",
    "from data_pipeline.pipelinesteps import load_data\n",
    "from pathlib import Path\n",
    "from sklearn.ensemble import HistGradientBoostingClassifier\n",
    "from model.feature_selector import FeatureSelector\n",
    "from model.modelorchastrator import OptBinningTransformer\n",
    "import os"
   ]
  },
  {
   "cell_type": "code",
   "execution_count": 2,
   "metadata": {},
   "outputs": [],
   "source": [
    "\n",
    "GlobalHydra.instance().clear()\n",
    "initialize(config_path=\"../\", version_base=None)\n",
    "cfg = compose(config_name=\"config\")"
   ]
  },
  {
   "cell_type": "code",
   "execution_count": 3,
   "metadata": {},
   "outputs": [],
   "source": [
    "\n",
    "base_path = Path(os.getcwd()).parent\n",
    "dataset = Dataset.create_from_pipeline(\n",
    "                partial(load_data, base_path), \n",
    "                instantiate(cfg.data_pipeline),\n",
    "                data_splitter=data_splitter,\n",
    "                target_column=\"target\",\n",
    "        )"
   ]
  },
  {
   "cell_type": "code",
   "execution_count": 4,
   "metadata": {},
   "outputs": [],
   "source": [
    "model_orchestrator = ModelOrchestrator(cfg)"
   ]
  },
  {
   "cell_type": "code",
   "execution_count": 5,
   "metadata": {},
   "outputs": [],
   "source": [
    "pipe = model_orchestrator.modelpipeline"
   ]
  },
  {
   "cell_type": "code",
   "execution_count": 6,
   "metadata": {},
   "outputs": [],
   "source": [
    "# pipe.fit(dataset.X_train, dataset.y_train)"
   ]
  },
  {
   "cell_type": "code",
   "execution_count": 17,
   "metadata": {},
   "outputs": [
    {
     "name": "stderr",
     "output_type": "stream",
     "text": [
      "\u001b[32m[I 2024-03-27 08:10:33,348]\u001b[0m A new study created in memory with name: optimization\u001b[0m\n"
     ]
    },
    {
     "name": "stdout",
     "output_type": "stream",
     "text": [
      " 2024-03-27 08:10:33,365 - \u001b[33;20m INFO \u001b[0m \t: my_logger.custom_logger - Selecting features from Dataset\n"
     ]
    },
    {
     "name": "stderr",
     "output_type": "stream",
     "text": [
      "c:\\Users\\bartw\\anaconda3\\envs\\credit_score\\Lib\\site-packages\\optbinning\\binning\\transformations.py:38: RuntimeWarning: invalid value encountered in log\n",
      "  return np.log((1. / event_rate - 1) * n_event / n_nonevent)\n"
     ]
    },
    {
     "name": "stdout",
     "output_type": "stream",
     "text": [
      " 2024-03-27 08:10:38,220 - \u001b[33;20m INFO \u001b[0m \t: my_logger.custom_logger - Selecting features from Dataset\n"
     ]
    },
    {
     "name": "stderr",
     "output_type": "stream",
     "text": [
      "c:\\Users\\bartw\\anaconda3\\envs\\credit_score\\Lib\\site-packages\\optbinning\\binning\\transformations.py:38: RuntimeWarning: invalid value encountered in log\n",
      "  return np.log((1. / event_rate - 1) * n_event / n_nonevent)\n",
      "\u001b[32m[I 2024-03-27 08:10:38,795]\u001b[0m Trial 0 finished with value: 0.6866666929581499 and parameters: {'max_n_prebins': 86, 'learning_rate': 0.785746133297233, 'max_iter': 725, 'max_leaf_nodes': 33, 'max_depth': 20, 'l2_regularization': 0.4492001598442621, 'max_bins': 58}. Best is trial 0 with value: 0.6866666929581499.\u001b[0m\n"
     ]
    },
    {
     "name": "stdout",
     "output_type": "stream",
     "text": [
      " 2024-03-27 08:10:38,805 - \u001b[33;20m INFO \u001b[0m \t: my_logger.custom_logger - Selecting features from Dataset\n"
     ]
    },
    {
     "name": "stderr",
     "output_type": "stream",
     "text": [
      "c:\\Users\\bartw\\anaconda3\\envs\\credit_score\\Lib\\site-packages\\optbinning\\binning\\transformations.py:38: RuntimeWarning: invalid value encountered in log\n",
      "  return np.log((1. / event_rate - 1) * n_event / n_nonevent)\n"
     ]
    },
    {
     "name": "stdout",
     "output_type": "stream",
     "text": [
      " 2024-03-27 08:10:44,988 - \u001b[33;20m INFO \u001b[0m \t: my_logger.custom_logger - Selecting features from Dataset\n"
     ]
    },
    {
     "name": "stderr",
     "output_type": "stream",
     "text": [
      "c:\\Users\\bartw\\anaconda3\\envs\\credit_score\\Lib\\site-packages\\optbinning\\binning\\transformations.py:38: RuntimeWarning: invalid value encountered in log\n",
      "  return np.log((1. / event_rate - 1) * n_event / n_nonevent)\n",
      "\u001b[32m[I 2024-03-27 08:10:45,733]\u001b[0m Trial 1 finished with value: 0.6939649456033771 and parameters: {'max_n_prebins': 64, 'learning_rate': 0.32327643285052077, 'max_iter': 733, 'max_leaf_nodes': 19, 'max_depth': 83, 'l2_regularization': 0.12222848298834425, 'max_bins': 147}. Best is trial 1 with value: 0.6939649456033771.\u001b[0m\n"
     ]
    },
    {
     "name": "stdout",
     "output_type": "stream",
     "text": [
      " 2024-03-27 08:10:45,747 - \u001b[33;20m INFO \u001b[0m \t: my_logger.custom_logger - Selecting features from Dataset\n"
     ]
    },
    {
     "name": "stderr",
     "output_type": "stream",
     "text": [
      "c:\\Users\\bartw\\anaconda3\\envs\\credit_score\\Lib\\site-packages\\optbinning\\binning\\transformations.py:38: RuntimeWarning: invalid value encountered in log\n",
      "  return np.log((1. / event_rate - 1) * n_event / n_nonevent)\n"
     ]
    },
    {
     "name": "stdout",
     "output_type": "stream",
     "text": [
      " 2024-03-27 08:10:52,437 - \u001b[33;20m INFO \u001b[0m \t: my_logger.custom_logger - Selecting features from Dataset\n"
     ]
    },
    {
     "name": "stderr",
     "output_type": "stream",
     "text": [
      "c:\\Users\\bartw\\anaconda3\\envs\\credit_score\\Lib\\site-packages\\optbinning\\binning\\transformations.py:38: RuntimeWarning: invalid value encountered in log\n",
      "  return np.log((1. / event_rate - 1) * n_event / n_nonevent)\n",
      "\u001b[32m[I 2024-03-27 08:10:53,152]\u001b[0m Trial 2 finished with value: 0.6913635731191833 and parameters: {'max_n_prebins': 39, 'learning_rate': 0.3443986790217092, 'max_iter': 448, 'max_leaf_nodes': 95, 'max_depth': 24, 'l2_regularization': 0.7192390989070703, 'max_bins': 160}. Best is trial 1 with value: 0.6939649456033771.\u001b[0m\n"
     ]
    },
    {
     "name": "stdout",
     "output_type": "stream",
     "text": [
      " 2024-03-27 08:10:53,169 - \u001b[33;20m INFO \u001b[0m \t: my_logger.custom_logger - Selecting features from Dataset\n"
     ]
    },
    {
     "name": "stderr",
     "output_type": "stream",
     "text": [
      "c:\\Users\\bartw\\anaconda3\\envs\\credit_score\\Lib\\site-packages\\optbinning\\binning\\transformations.py:38: RuntimeWarning: invalid value encountered in log\n",
      "  return np.log((1. / event_rate - 1) * n_event / n_nonevent)\n"
     ]
    },
    {
     "name": "stdout",
     "output_type": "stream",
     "text": [
      " 2024-03-27 08:10:58,745 - \u001b[33;20m INFO \u001b[0m \t: my_logger.custom_logger - Selecting features from Dataset\n"
     ]
    },
    {
     "name": "stderr",
     "output_type": "stream",
     "text": [
      "c:\\Users\\bartw\\anaconda3\\envs\\credit_score\\Lib\\site-packages\\optbinning\\binning\\transformations.py:38: RuntimeWarning: invalid value encountered in log\n",
      "  return np.log((1. / event_rate - 1) * n_event / n_nonevent)\n",
      "\u001b[32m[I 2024-03-27 08:10:59,485]\u001b[0m Trial 3 finished with value: 0.6936231874282912 and parameters: {'max_n_prebins': 57, 'learning_rate': 0.3927150370892454, 'max_iter': 724, 'max_leaf_nodes': 48, 'max_depth': 99, 'l2_regularization': 0.044765328863690376, 'max_bins': 102}. Best is trial 1 with value: 0.6939649456033771.\u001b[0m\n"
     ]
    },
    {
     "name": "stdout",
     "output_type": "stream",
     "text": [
      " 2024-03-27 08:10:59,495 - \u001b[33;20m INFO \u001b[0m \t: my_logger.custom_logger - Selecting features from Dataset\n"
     ]
    },
    {
     "name": "stderr",
     "output_type": "stream",
     "text": [
      "c:\\Users\\bartw\\anaconda3\\envs\\credit_score\\Lib\\site-packages\\optbinning\\binning\\transformations.py:38: RuntimeWarning: invalid value encountered in log\n",
      "  return np.log((1. / event_rate - 1) * n_event / n_nonevent)\n"
     ]
    },
    {
     "name": "stdout",
     "output_type": "stream",
     "text": [
      " 2024-03-27 08:11:06,249 - \u001b[33;20m INFO \u001b[0m \t: my_logger.custom_logger - Selecting features from Dataset\n"
     ]
    },
    {
     "name": "stderr",
     "output_type": "stream",
     "text": [
      "c:\\Users\\bartw\\anaconda3\\envs\\credit_score\\Lib\\site-packages\\optbinning\\binning\\transformations.py:38: RuntimeWarning: invalid value encountered in log\n",
      "  return np.log((1. / event_rate - 1) * n_event / n_nonevent)\n",
      "\u001b[32m[I 2024-03-27 08:11:07,030]\u001b[0m Trial 4 finished with value: 0.6923387397152428 and parameters: {'max_n_prebins': 47, 'learning_rate': 0.5008213773016754, 'max_iter': 463, 'max_leaf_nodes': 19, 'max_depth': 15, 'l2_regularization': 0.6376511905527639, 'max_bins': 24}. Best is trial 1 with value: 0.6939649456033771.\u001b[0m\n"
     ]
    },
    {
     "name": "stdout",
     "output_type": "stream",
     "text": [
      " 2024-03-27 08:11:07,040 - \u001b[33;20m INFO \u001b[0m \t: my_logger.custom_logger - Selecting features from Dataset\n"
     ]
    },
    {
     "name": "stderr",
     "output_type": "stream",
     "text": [
      "c:\\Users\\bartw\\anaconda3\\envs\\credit_score\\Lib\\site-packages\\optbinning\\binning\\transformations.py:38: RuntimeWarning: invalid value encountered in log\n",
      "  return np.log((1. / event_rate - 1) * n_event / n_nonevent)\n"
     ]
    },
    {
     "name": "stdout",
     "output_type": "stream",
     "text": [
      " 2024-03-27 08:11:13,545 - \u001b[33;20m INFO \u001b[0m \t: my_logger.custom_logger - Selecting features from Dataset\n"
     ]
    },
    {
     "name": "stderr",
     "output_type": "stream",
     "text": [
      "c:\\Users\\bartw\\anaconda3\\envs\\credit_score\\Lib\\site-packages\\optbinning\\binning\\transformations.py:38: RuntimeWarning: invalid value encountered in log\n",
      "  return np.log((1. / event_rate - 1) * n_event / n_nonevent)\n",
      "\u001b[32m[I 2024-03-27 08:11:14,277]\u001b[0m Trial 5 finished with value: 0.6932387780179827 and parameters: {'max_n_prebins': 20, 'learning_rate': 0.26108762186970885, 'max_iter': 511, 'max_leaf_nodes': 54, 'max_depth': 80, 'l2_regularization': 0.6220443077100996, 'max_bins': 43}. Best is trial 1 with value: 0.6939649456033771.\u001b[0m\n"
     ]
    },
    {
     "name": "stdout",
     "output_type": "stream",
     "text": [
      " 2024-03-27 08:11:14,288 - \u001b[33;20m INFO \u001b[0m \t: my_logger.custom_logger - Selecting features from Dataset\n"
     ]
    },
    {
     "name": "stderr",
     "output_type": "stream",
     "text": [
      "c:\\Users\\bartw\\anaconda3\\envs\\credit_score\\Lib\\site-packages\\optbinning\\binning\\transformations.py:38: RuntimeWarning: invalid value encountered in log\n",
      "  return np.log((1. / event_rate - 1) * n_event / n_nonevent)\n"
     ]
    },
    {
     "name": "stdout",
     "output_type": "stream",
     "text": [
      " 2024-03-27 08:11:19,491 - \u001b[33;20m INFO \u001b[0m \t: my_logger.custom_logger - Selecting features from Dataset\n"
     ]
    },
    {
     "name": "stderr",
     "output_type": "stream",
     "text": [
      "c:\\Users\\bartw\\anaconda3\\envs\\credit_score\\Lib\\site-packages\\optbinning\\binning\\transformations.py:38: RuntimeWarning: invalid value encountered in log\n",
      "  return np.log((1. / event_rate - 1) * n_event / n_nonevent)\n",
      "\u001b[32m[I 2024-03-27 08:11:20,087]\u001b[0m Trial 6 finished with value: 0.6899318361097291 and parameters: {'max_n_prebins': 67, 'learning_rate': 0.6461713687676721, 'max_iter': 920, 'max_leaf_nodes': 18, 'max_depth': 9, 'l2_regularization': 0.2422601263894489, 'max_bins': 200}. Best is trial 1 with value: 0.6939649456033771.\u001b[0m\n"
     ]
    },
    {
     "name": "stdout",
     "output_type": "stream",
     "text": [
      " 2024-03-27 08:11:20,100 - \u001b[33;20m INFO \u001b[0m \t: my_logger.custom_logger - Selecting features from Dataset\n"
     ]
    },
    {
     "name": "stderr",
     "output_type": "stream",
     "text": [
      "c:\\Users\\bartw\\anaconda3\\envs\\credit_score\\Lib\\site-packages\\optbinning\\binning\\transformations.py:38: RuntimeWarning: invalid value encountered in log\n",
      "  return np.log((1. / event_rate - 1) * n_event / n_nonevent)\n"
     ]
    },
    {
     "name": "stdout",
     "output_type": "stream",
     "text": [
      " 2024-03-27 08:11:25,579 - \u001b[33;20m INFO \u001b[0m \t: my_logger.custom_logger - Selecting features from Dataset\n"
     ]
    },
    {
     "name": "stderr",
     "output_type": "stream",
     "text": [
      "c:\\Users\\bartw\\anaconda3\\envs\\credit_score\\Lib\\site-packages\\optbinning\\binning\\transformations.py:38: RuntimeWarning: invalid value encountered in log\n",
      "  return np.log((1. / event_rate - 1) * n_event / n_nonevent)\n",
      "\u001b[32m[I 2024-03-27 08:11:26,222]\u001b[0m Trial 7 finished with value: 0.6914167376232767 and parameters: {'max_n_prebins': 33, 'learning_rate': 0.5102615958521078, 'max_iter': 940, 'max_leaf_nodes': 11, 'max_depth': 58, 'l2_regularization': 0.15204439125743305, 'max_bins': 206}. Best is trial 1 with value: 0.6939649456033771.\u001b[0m\n"
     ]
    },
    {
     "name": "stdout",
     "output_type": "stream",
     "text": [
      " 2024-03-27 08:11:26,232 - \u001b[33;20m INFO \u001b[0m \t: my_logger.custom_logger - Selecting features from Dataset\n"
     ]
    },
    {
     "name": "stderr",
     "output_type": "stream",
     "text": [
      "c:\\Users\\bartw\\anaconda3\\envs\\credit_score\\Lib\\site-packages\\optbinning\\binning\\transformations.py:38: RuntimeWarning: invalid value encountered in log\n",
      "  return np.log((1. / event_rate - 1) * n_event / n_nonevent)\n"
     ]
    },
    {
     "name": "stdout",
     "output_type": "stream",
     "text": [
      " 2024-03-27 08:11:31,701 - \u001b[33;20m INFO \u001b[0m \t: my_logger.custom_logger - Selecting features from Dataset\n"
     ]
    },
    {
     "name": "stderr",
     "output_type": "stream",
     "text": [
      "c:\\Users\\bartw\\anaconda3\\envs\\credit_score\\Lib\\site-packages\\optbinning\\binning\\transformations.py:38: RuntimeWarning: invalid value encountered in log\n",
      "  return np.log((1. / event_rate - 1) * n_event / n_nonevent)\n",
      "\u001b[32m[I 2024-03-27 08:11:32,364]\u001b[0m Trial 8 finished with value: 0.690501869755685 and parameters: {'max_n_prebins': 77, 'learning_rate': 0.5734677222455746, 'max_iter': 719, 'max_leaf_nodes': 15, 'max_depth': 57, 'l2_regularization': 0.010972414637314866, 'max_bins': 164}. Best is trial 1 with value: 0.6939649456033771.\u001b[0m\n"
     ]
    },
    {
     "name": "stdout",
     "output_type": "stream",
     "text": [
      " 2024-03-27 08:11:32,375 - \u001b[33;20m INFO \u001b[0m \t: my_logger.custom_logger - Selecting features from Dataset\n"
     ]
    },
    {
     "name": "stderr",
     "output_type": "stream",
     "text": [
      "c:\\Users\\bartw\\anaconda3\\envs\\credit_score\\Lib\\site-packages\\optbinning\\binning\\transformations.py:38: RuntimeWarning: invalid value encountered in log\n",
      "  return np.log((1. / event_rate - 1) * n_event / n_nonevent)\n"
     ]
    },
    {
     "name": "stdout",
     "output_type": "stream",
     "text": [
      " 2024-03-27 08:11:58,363 - \u001b[33;20m INFO \u001b[0m \t: my_logger.custom_logger - Selecting features from Dataset\n"
     ]
    },
    {
     "name": "stderr",
     "output_type": "stream",
     "text": [
      "c:\\Users\\bartw\\anaconda3\\envs\\credit_score\\Lib\\site-packages\\optbinning\\binning\\transformations.py:38: RuntimeWarning: invalid value encountered in log\n",
      "  return np.log((1. / event_rate - 1) * n_event / n_nonevent)\n",
      "\u001b[32m[I 2024-03-27 08:12:01,388]\u001b[0m Trial 9 finished with value: 0.6960292117223663 and parameters: {'max_n_prebins': 72, 'learning_rate': 0.09290011375105825, 'max_iter': 642, 'max_leaf_nodes': 11, 'max_depth': 13, 'l2_regularization': 0.6559559534840513, 'max_bins': 95}. Best is trial 9 with value: 0.6960292117223663.\u001b[0m\n"
     ]
    },
    {
     "name": "stdout",
     "output_type": "stream",
     "text": [
      " 2024-03-27 08:12:01,417 - \u001b[33;20m INFO \u001b[0m \t: my_logger.custom_logger - Selecting features from Dataset\n"
     ]
    },
    {
     "name": "stderr",
     "output_type": "stream",
     "text": [
      "c:\\Users\\bartw\\anaconda3\\envs\\credit_score\\Lib\\site-packages\\optbinning\\binning\\transformations.py:38: RuntimeWarning: invalid value encountered in log\n",
      "  return np.log((1. / event_rate - 1) * n_event / n_nonevent)\n"
     ]
    },
    {
     "name": "stdout",
     "output_type": "stream",
     "text": [
      " 2024-03-27 08:12:20,734 - \u001b[33;20m INFO \u001b[0m \t: my_logger.custom_logger - Selecting features from Dataset\n"
     ]
    },
    {
     "name": "stderr",
     "output_type": "stream",
     "text": [
      "c:\\Users\\bartw\\anaconda3\\envs\\credit_score\\Lib\\site-packages\\optbinning\\binning\\transformations.py:38: RuntimeWarning: invalid value encountered in log\n",
      "  return np.log((1. / event_rate - 1) * n_event / n_nonevent)\n",
      "\u001b[32m[I 2024-03-27 08:12:22,678]\u001b[0m Trial 10 finished with value: 0.6968864840970873 and parameters: {'max_n_prebins': 98, 'learning_rate': 0.03750655679690962, 'max_iter': 128, 'max_leaf_nodes': 78, 'max_depth': 37, 'l2_regularization': 0.9727372410566262, 'max_bins': 250}. Best is trial 10 with value: 0.6968864840970873.\u001b[0m\n"
     ]
    },
    {
     "name": "stdout",
     "output_type": "stream",
     "text": [
      " 2024-03-27 08:12:22,694 - \u001b[33;20m INFO \u001b[0m \t: my_logger.custom_logger - Selecting features from Dataset\n"
     ]
    },
    {
     "name": "stderr",
     "output_type": "stream",
     "text": [
      "c:\\Users\\bartw\\anaconda3\\envs\\credit_score\\Lib\\site-packages\\optbinning\\binning\\transformations.py:38: RuntimeWarning: invalid value encountered in log\n",
      "  return np.log((1. / event_rate - 1) * n_event / n_nonevent)\n"
     ]
    },
    {
     "name": "stdout",
     "output_type": "stream",
     "text": [
      " 2024-03-27 08:12:40,719 - \u001b[33;20m INFO \u001b[0m \t: my_logger.custom_logger - Selecting features from Dataset\n"
     ]
    },
    {
     "name": "stderr",
     "output_type": "stream",
     "text": [
      "c:\\Users\\bartw\\anaconda3\\envs\\credit_score\\Lib\\site-packages\\optbinning\\binning\\transformations.py:38: RuntimeWarning: invalid value encountered in log\n",
      "  return np.log((1. / event_rate - 1) * n_event / n_nonevent)\n",
      "\u001b[32m[I 2024-03-27 08:12:42,399]\u001b[0m Trial 11 finished with value: 0.6950562290386211 and parameters: {'max_n_prebins': 98, 'learning_rate': 0.02549545137782239, 'max_iter': 107, 'max_leaf_nodes': 82, 'max_depth': 37, 'l2_regularization': 0.9251095636169997, 'max_bins': 253}. Best is trial 10 with value: 0.6968864840970873.\u001b[0m\n"
     ]
    },
    {
     "name": "stdout",
     "output_type": "stream",
     "text": [
      " 2024-03-27 08:12:42,415 - \u001b[33;20m INFO \u001b[0m \t: my_logger.custom_logger - Selecting features from Dataset\n"
     ]
    },
    {
     "name": "stderr",
     "output_type": "stream",
     "text": [
      "c:\\Users\\bartw\\anaconda3\\envs\\credit_score\\Lib\\site-packages\\optbinning\\binning\\transformations.py:38: RuntimeWarning: invalid value encountered in log\n",
      "  return np.log((1. / event_rate - 1) * n_event / n_nonevent)\n"
     ]
    },
    {
     "name": "stdout",
     "output_type": "stream",
     "text": [
      " 2024-03-27 08:12:56,022 - \u001b[33;20m INFO \u001b[0m \t: my_logger.custom_logger - Selecting features from Dataset\n"
     ]
    },
    {
     "name": "stderr",
     "output_type": "stream",
     "text": [
      "c:\\Users\\bartw\\anaconda3\\envs\\credit_score\\Lib\\site-packages\\optbinning\\binning\\transformations.py:38: RuntimeWarning: invalid value encountered in log\n",
      "  return np.log((1. / event_rate - 1) * n_event / n_nonevent)\n",
      "\u001b[32m[I 2024-03-27 08:12:57,542]\u001b[0m Trial 12 finished with value: 0.6710705801079764 and parameters: {'max_n_prebins': 96, 'learning_rate': 0.021781109217318885, 'max_iter': 199, 'max_leaf_nodes': 67, 'max_depth': 1, 'l2_regularization': 0.9998743578965674, 'max_bins': 91}. Best is trial 10 with value: 0.6968864840970873.\u001b[0m\n"
     ]
    },
    {
     "name": "stdout",
     "output_type": "stream",
     "text": [
      " 2024-03-27 08:12:57,558 - \u001b[33;20m INFO \u001b[0m \t: my_logger.custom_logger - Selecting features from Dataset\n"
     ]
    },
    {
     "name": "stderr",
     "output_type": "stream",
     "text": [
      "c:\\Users\\bartw\\anaconda3\\envs\\credit_score\\Lib\\site-packages\\optbinning\\binning\\transformations.py:38: RuntimeWarning: invalid value encountered in log\n",
      "  return np.log((1. / event_rate - 1) * n_event / n_nonevent)\n"
     ]
    },
    {
     "name": "stdout",
     "output_type": "stream",
     "text": [
      " 2024-03-27 08:13:06,686 - \u001b[33;20m INFO \u001b[0m \t: my_logger.custom_logger - Selecting features from Dataset\n"
     ]
    },
    {
     "name": "stderr",
     "output_type": "stream",
     "text": [
      "c:\\Users\\bartw\\anaconda3\\envs\\credit_score\\Lib\\site-packages\\optbinning\\binning\\transformations.py:38: RuntimeWarning: invalid value encountered in log\n",
      "  return np.log((1. / event_rate - 1) * n_event / n_nonevent)\n",
      "\u001b[32m[I 2024-03-27 08:13:07,658]\u001b[0m Trial 13 finished with value: 0.6960048956622488 and parameters: {'max_n_prebins': 80, 'learning_rate': 0.1647508040723532, 'max_iter': 293, 'max_leaf_nodes': 74, 'max_depth': 39, 'l2_regularization': 0.832648209403914, 'max_bins': 112}. Best is trial 10 with value: 0.6968864840970873.\u001b[0m\n"
     ]
    }
   ],
   "source": [
    "from optuna import create_study\n",
    "from optuna import Trial\n",
    "from  optuna import samplers\n",
    "\n",
    "from sklearn.metrics import roc_auc_score\n",
    "\n",
    "\n",
    "def objective(trial : Trial) -> float:\n",
    "  model_orchestrator = ModelOrchestrator(cfg, trial)\n",
    "  pipe = model_orchestrator.create_tuning_pipeline()\n",
    "  pipe.fit(dataset.X_train, dataset.y_train)\n",
    "  y_pred = pipe.predict_proba(dataset.X_test)[:,1]\n",
    "  auc = roc_auc_score(dataset.y_test, y_pred)\n",
    "  return auc\n",
    "\n",
    "study = create_study(study_name='optimization', direction='maximize', sampler = samplers.TPESampler())\n",
    "study.optimize(lambda trial: objective(trial), n_trials=14)"
   ]
  },
  {
   "cell_type": "code",
   "execution_count": 18,
   "metadata": {},
   "outputs": [
    {
     "name": "stdout",
     "output_type": "stream",
     "text": [
      "max_n_prebins: 98\n",
      "learning_rate: 0.03750655679690962\n",
      "max_iter: 128\n",
      "max_leaf_nodes: 78\n",
      "max_depth: 37\n",
      "l2_regularization: 0.9727372410566262\n",
      "max_bins: 250\n"
     ]
    }
   ],
   "source": [
    "for i, j in zip(study.best_params.keys(), study.best_params.values()):\n",
    "    print(f\"{i}: {j}\")"
   ]
  },
  {
   "cell_type": "code",
   "execution_count": 13,
   "metadata": {},
   "outputs": [
    {
     "data": {
      "text/plain": [
       "dict_keys(['max_n_prebins', 'learning_rate', 'max_iter', 'max_leaf_nodes', 'max_depth', 'l2_regularization', 'max_bins'])"
      ]
     },
     "execution_count": 13,
     "metadata": {},
     "output_type": "execute_result"
    }
   ],
   "source": [
    "study.best_params.keys()"
   ]
  },
  {
   "cell_type": "code",
   "execution_count": null,
   "metadata": {},
   "outputs": [],
   "source": []
  }
 ],
 "metadata": {
  "kernelspec": {
   "display_name": "credit_score",
   "language": "python",
   "name": "python3"
  },
  "language_info": {
   "codemirror_mode": {
    "name": "ipython",
    "version": 3
   },
   "file_extension": ".py",
   "mimetype": "text/x-python",
   "name": "python",
   "nbconvert_exporter": "python",
   "pygments_lexer": "ipython3",
   "version": "3.11.7"
  }
 },
 "nbformat": 4,
 "nbformat_minor": 2
}
