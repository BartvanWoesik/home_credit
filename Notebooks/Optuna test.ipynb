{
 "cells": [
  {
   "cell_type": "code",
   "execution_count": null,
   "metadata": {},
   "outputs": [],
   "source": [
    "from model.modelorchastrator import ModelOrchestrator\n",
    "import pandas as pd\n",
    "from data_pipeline.dataset import Dataset\n",
    "from data_pipeline.pipelinesteps import data_splitter\n",
    "from hydra.utils import instantiate\n",
    "from hydra import compose, initialize\n",
    "from hydra.core.global_hydra import GlobalHydra\n",
    "from functools import partial\n",
    "from data_pipeline.pipelinesteps import load_data\n",
    "from pathlib import Path\n",
    "from sklearn.ensemble import HistGradientBoostingClassifier\n",
    "from model.feature_selector import FeatureSelector\n",
    "from model.modelorchastrator import OptBinningTransformer\n",
    "import os"
   ]
  },
  {
   "cell_type": "code",
   "execution_count": null,
   "metadata": {},
   "outputs": [],
   "source": [
    "\n",
    "GlobalHydra.instance().clear()\n",
    "initialize(config_path=\"../\", version_base=None)\n",
    "cfg = compose(config_name=\"config\")"
   ]
  },
  {
   "cell_type": "code",
   "execution_count": null,
   "metadata": {},
   "outputs": [],
   "source": [
    "\n",
    "base_path = Path(os.getcwd()).parent\n",
    "dataset = Dataset.create_from_pipeline(\n",
    "                partial(load_data, base_path), \n",
    "                instantiate(cfg.data_pipeline),\n",
    "                data_splitter=data_splitter,\n",
    "                target_column=\"target\",\n",
    "        )"
   ]
  },
  {
   "cell_type": "code",
   "execution_count": null,
   "metadata": {},
   "outputs": [],
   "source": [
    "model_orchestrator = ModelOrchestrator(cfg)"
   ]
  },
  {
   "cell_type": "code",
   "execution_count": null,
   "metadata": {},
   "outputs": [],
   "source": [
    "pipe = model_orchestrator.modelpipeline"
   ]
  },
  {
   "cell_type": "code",
   "execution_count": null,
   "metadata": {},
   "outputs": [],
   "source": [
    "# pipe.fit(dataset.X_train, dataset.y_train)"
   ]
  },
  {
   "cell_type": "code",
   "execution_count": null,
   "metadata": {},
   "outputs": [],
   "source": [
    "from optuna import create_study\n",
    "from optuna import Trial\n",
    "from  optuna import samplers\n",
    "\n",
    "from sklearn.metrics import roc_auc_score\n",
    "\n",
    "\n",
    "def objective(trial : Trial) -> float:\n",
    "  model_orchestrator = ModelOrchestrator(cfg, trial)\n",
    "  pipe = model_orchestrator.create_tuning_pipeline()\n",
    "  pipe.fit(dataset.X_train, dataset.y_train)\n",
    "  y_pred = pipe.predict_proba(dataset.X_test)[:,1]\n",
    "  auc = roc_auc_score(dataset.y_test, y_pred)\n",
    "  return auc\n",
    "\n",
    "study = create_study(study_name='optimization', direction='maximize', sampler = samplers.TPESampler())\n",
    "study.optimize(lambda trial: objective(trial), n_trials=14)"
   ]
  },
  {
   "cell_type": "code",
   "execution_count": null,
   "metadata": {},
   "outputs": [],
   "source": [
    "for i, j in zip(study.best_params.keys(), study.best_params.values()):\n",
    "    print(f\"{i}: {j}\")"
   ]
  },
  {
   "cell_type": "code",
   "execution_count": null,
   "metadata": {},
   "outputs": [],
   "source": [
    "study.best_params.keys()"
   ]
  },
  {
   "cell_type": "code",
   "execution_count": null,
   "metadata": {},
   "outputs": [],
   "source": []
  }
 ],
 "metadata": {
  "kernelspec": {
   "display_name": "credit_score",
   "language": "python",
   "name": "python3"
  },
  "language_info": {
   "codemirror_mode": {
    "name": "ipython",
    "version": 3
   },
   "file_extension": ".py",
   "mimetype": "text/x-python",
   "name": "python",
   "nbconvert_exporter": "python",
   "pygments_lexer": "ipython3",
   "version": "3.11.7"
  }
 },
 "nbformat": 4,
 "nbformat_minor": 2
}
