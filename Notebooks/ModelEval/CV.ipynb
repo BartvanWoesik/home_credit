{
 "cells": [
  {
   "cell_type": "code",
   "execution_count": null,
   "metadata": {},
   "outputs": [],
   "source": [
    "import pandas as pd\n",
    "import numpy as np\n",
    "\n",
    "from hydra.utils import instantiate\n",
    "from hydra import compose, initialize\n",
    "from hydra.core.global_hydra import GlobalHydra\n",
    "\n",
    "from data_pipeline.pipelinesteps import data_splitter\n",
    "from model.modelorchastrator import ModelOrchestrator\n",
    "from data_pipeline.dataset import Dataset\n",
    "from evaluate.metric_eval import ModelEvaluator"
   ]
  },
  {
   "cell_type": "code",
   "execution_count": null,
   "metadata": {},
   "outputs": [],
   "source": [
    "# Create config\n",
    "GlobalHydra.instance().clear()\n",
    "initialize(config_path=\"../../\", version_base=None)\n",
    "cfg = compose(config_name=\"config\")"
   ]
  },
  {
   "cell_type": "code",
   "execution_count": null,
   "metadata": {},
   "outputs": [],
   "source": [
    "# Create Dataset\n",
    "df = pd.read_feather(\"../../data/parquet_files/train/processed_train.feather\")\n",
    "data_pipeline = instantiate(cfg.data_pipeline)\n",
    "df = pd.read_feather(\"../../data/parquet_files/train/processed_train.feather\")\n",
    "df = data_pipeline.apply(df)\n",
    "\n",
    "dataset = Dataset(data=df, data_splitter=data_splitter, target_column='target')"
   ]
  },
  {
   "cell_type": "code",
   "execution_count": null,
   "metadata": {},
   "outputs": [],
   "source": [
    "model_orchestrator = ModelOrchestrator(cfg.model)\n",
    "\n",
    "model = model_orchestrator.modelpipeline\n",
    "ME = ModelEvaluator(model.pipeline[-1], ['roc_auc_ovr', 'f1'])"
   ]
  },
  {
   "cell_type": "code",
   "execution_count": null,
   "metadata": {},
   "outputs": [],
   "source": [
    "model.fit(dataset.X_train, dataset.y_train)"
   ]
  },
  {
   "cell_type": "code",
   "execution_count": null,
   "metadata": {},
   "outputs": [],
   "source": [
    "model.transform_without_predictor(dataset.X_train)"
   ]
  },
  {
   "cell_type": "code",
   "execution_count": null,
   "metadata": {},
   "outputs": [],
   "source": [
    "ME.evaluate(model.transform_without_predictor(dataset.X_train), dataset.y_train)"
   ]
  },
  {
   "cell_type": "code",
   "execution_count": null,
   "metadata": {},
   "outputs": [],
   "source": [
    "from sklearn.metrics import get_scorer_names\n",
    "all_scorers = get_scorer_names()\n",
    "all_scorers"
   ]
  },
  {
   "cell_type": "code",
   "execution_count": null,
   "metadata": {},
   "outputs": [],
   "source": [
    "from sklearn.metrics import roc_auc_score\n",
    "\n",
    "def gini(y_true, y_pred):\n",
    "    return 2 * roc_auc_score(y_true, y_pred) - 1"
   ]
  },
  {
   "cell_type": "code",
   "execution_count": null,
   "metadata": {},
   "outputs": [],
   "source": [
    "gini(dataset.y_train, model.predict_proba(dataset.X_train).T[1])"
   ]
  },
  {
   "cell_type": "code",
   "execution_count": null,
   "metadata": {},
   "outputs": [],
   "source": [
    "df0 = pd.read_parquet(\"../../data/parquet_files/train/train_static_0_0.parquet\")\n",
    "df1 = pd.read_parquet(\"../../data/parquet_files/train/train_static_0_1.parquet\")\n",
    "df = pd.concat([df0, df1])\n",
    "df = df[[\"case_id\", \"annuitynextmonth_57A\", \"amtinstpaidbefduel24m_4187115A\", \"annuity_780A\", \"applicationscnt_867L\" , \"avglnamtstart24m_4525187A\", \"credamount_770A\", \"eir_270L\", \"inittransactionamount_650A\", \"homephncnt_628L\", \"lastrejectcredamount_222A\"]]"
   ]
  },
  {
   "cell_type": "code",
   "execution_count": null,
   "metadata": {},
   "outputs": [],
   "source": [
    "df.head()"
   ]
  },
  {
   "cell_type": "code",
   "execution_count": null,
   "metadata": {},
   "outputs": [],
   "source": [
    "X = pd.merge(dataset.X_train , df, on = \"case_id\", how = \"left\")\n",
    "X_test = pd.merge(dataset.X_test , df, on = \"case_id\", how = \"left\")\n",
    "X_oot = pd.merge(dataset.X_oot , df, on = \"case_id\", how = \"left\")"
   ]
  },
  {
   "cell_type": "code",
   "execution_count": null,
   "metadata": {},
   "outputs": [],
   "source": [
    "model_orchestrator = ModelOrchestrator(cfg.model)\n",
    "\n",
    "model = model_orchestrator.modelpipeline\n",
    "ME = ModelEvaluator(model.pipeline[-1], ['roc_auc_ovr', 'f1'])\n",
    "model.fit(X, dataset.y_train)\n",
    "# ME.evaluate(model.transform_without_predictor(X), dataset.y_train)"
   ]
  },
  {
   "cell_type": "code",
   "execution_count": null,
   "metadata": {},
   "outputs": [],
   "source": [
    "gini_value = gini(dataset.y_oot, model.predict_proba(X_oot).T[1])\n",
    "std_dev = np.std(model.predict_proba(X_oot).T[1])\n",
    "gini_value - 0.5 * std_dev"
   ]
  },
  {
   "cell_type": "code",
   "execution_count": null,
   "metadata": {},
   "outputs": [],
   "source": [
    "gini_value\n"
   ]
  },
  {
   "cell_type": "code",
   "execution_count": null,
   "metadata": {},
   "outputs": [],
   "source": [
    "roc_auc_score(dataset.y_oot, model.predict_proba(X_oot).T[1])"
   ]
  },
  {
   "cell_type": "code",
   "execution_count": null,
   "metadata": {},
   "outputs": [],
   "source": [
    "roc_auc_score(dataset.y_train, model.predict_proba(X).T[1])"
   ]
  },
  {
   "cell_type": "code",
   "execution_count": null,
   "metadata": {},
   "outputs": [],
   "source": []
  }
 ],
 "metadata": {
  "kernelspec": {
   "display_name": "credit_score",
   "language": "python",
   "name": "python3"
  },
  "language_info": {
   "codemirror_mode": {
    "name": "ipython",
    "version": 3
   },
   "file_extension": ".py",
   "mimetype": "text/x-python",
   "name": "python",
   "nbconvert_exporter": "python",
   "pygments_lexer": "ipython3",
   "version": "3.11.7"
  }
 },
 "nbformat": 4,
 "nbformat_minor": 2
}
