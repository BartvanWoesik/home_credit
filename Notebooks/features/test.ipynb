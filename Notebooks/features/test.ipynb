{
 "cells": [
  {
   "cell_type": "code",
   "execution_count": null,
   "metadata": {},
   "outputs": [],
   "source": [
    "from model.booster import HistBooster"
   ]
  },
  {
   "cell_type": "code",
   "execution_count": null,
   "metadata": {},
   "outputs": [],
   "source": [
    "import pandas as pd\n",
    "import numpy as np\n",
    "\n",
    "from hydra.utils import instantiate\n",
    "from hydra import compose, initialize\n",
    "from hydra.core.global_hydra import GlobalHydra\n",
    "\n",
    "from data_pipeline.pipelinesteps import data_splitter\n",
    "from model.modelorchastrator import ModelOrchestrator\n",
    "from data_pipeline.dataset import Dataset\n",
    "from evaluate.metric_eval import ModelEvaluator\n",
    "\n",
    "\n",
    "\n",
    "# Create config\n",
    "GlobalHydra.instance().clear()\n",
    "initialize(config_path=\"../../conf\", version_base=None)\n",
    "cfg = compose(config_name=\"config\")\n",
    "\n",
    "# Create Dataset\n",
    "df = pd.read_feather(\"../../data/parquet_files/train/processed_train.feather\")\n",
    "df.pop('date_decision')\n",
    "data_pipeline = instantiate(cfg.data_pipeline)\n",
    "df = data_pipeline.apply(df)  \n",
    "\n",
    "dataset = Dataset(data=df, data_splitter=data_splitter, target_column='target')"
   ]
  },
  {
   "cell_type": "code",
   "execution_count": null,
   "metadata": {},
   "outputs": [],
   "source": [
    "cfg.data_pipeline"
   ]
  },
  {
   "cell_type": "code",
   "execution_count": null,
   "metadata": {},
   "outputs": [],
   "source": [
    "dataset.X_train['Age']"
   ]
  },
  {
   "cell_type": "code",
   "execution_count": null,
   "metadata": {},
   "outputs": [],
   "source": [
    "model_orchestrator = ModelOrchestrator(cfg)\n",
    "\n",
    "model = model_orchestrator.create_pipe_line()\n",
    "model.fit(dataset.X_train, dataset.y_train)"
   ]
  },
  {
   "cell_type": "code",
   "execution_count": null,
   "metadata": {},
   "outputs": [],
   "source": []
  },
  {
   "cell_type": "code",
   "execution_count": null,
   "metadata": {},
   "outputs": [],
   "source": [
    "clf = HistBooster()\n",
    "clf.fit(model.transform_without_predictor(dataset.X), dataset.y)"
   ]
  },
  {
   "cell_type": "code",
   "execution_count": null,
   "metadata": {},
   "outputs": [],
   "source": [
    "clf.feature_importances_"
   ]
  },
  {
   "cell_type": "code",
   "execution_count": null,
   "metadata": {},
   "outputs": [],
   "source": [
    "sum(clf.feature_importances_)"
   ]
  },
  {
   "cell_type": "code",
   "execution_count": null,
   "metadata": {},
   "outputs": [],
   "source": []
  }
 ],
 "metadata": {
  "kernelspec": {
   "display_name": "credit_score",
   "language": "python",
   "name": "python3"
  },
  "language_info": {
   "codemirror_mode": {
    "name": "ipython",
    "version": 3
   },
   "file_extension": ".py",
   "mimetype": "text/x-python",
   "name": "python",
   "nbconvert_exporter": "python",
   "pygments_lexer": "ipython3",
   "version": "3.11.7"
  }
 },
 "nbformat": 4,
 "nbformat_minor": 2
}
